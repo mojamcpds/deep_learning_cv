{
  "nbformat": 4,
  "nbformat_minor": 0,
  "metadata": {
    "colab": {
      "provenance": []
    },
    "kernelspec": {
      "name": "python3",
      "display_name": "Python 3"
    },
    "language_info": {
      "name": "python"
    }
  },
  "cells": [
    {
      "cell_type": "code",
      "execution_count": null,
      "metadata": {
        "colab": {
          "base_uri": "https://localhost:8080/"
        },
        "id": "CQd6dm-cRHTF",
        "outputId": "a40f4960-c90e-43f3-ee14-2d260cb16635"
      },
      "outputs": [
        {
          "output_type": "stream",
          "name": "stdout",
          "text": [
            "Looking in indexes: https://pypi.org/simple, https://us-python.pkg.dev/colab-wheels/public/simple/\n",
            "Requirement already satisfied: torch in /usr/local/lib/python3.9/dist-packages (1.13.1+cu116)\n",
            "Requirement already satisfied: typing-extensions in /usr/local/lib/python3.9/dist-packages (from torch) (4.5.0)\n"
          ]
        }
      ],
      "source": [
        "!pip3 install torch\n"
      ]
    },
    {
      "cell_type": "code",
      "source": [
        "import torch\n",
        "import numpy as np"
      ],
      "metadata": {
        "id": "orCxp3R6RNbf"
      },
      "execution_count": null,
      "outputs": []
    },
    {
      "cell_type": "code",
      "source": [
        "from IPython.utils.text import string\n",
        "v = torch.tensor([1,2,3])\n",
        "print(v)\n",
        "print(v.dtype) #getting the data type of the elements of the tensor\n",
        "print(v[0])\n",
        "print(v[1])\n",
        "print(v[2])"
      ],
      "metadata": {
        "colab": {
          "base_uri": "https://localhost:8080/"
        },
        "id": "Dts3nj50RXQY",
        "outputId": "6617408e-67d7-4442-8a02-241db9a4e2fe"
      },
      "execution_count": null,
      "outputs": [
        {
          "output_type": "stream",
          "name": "stdout",
          "text": [
            "tensor([1, 2, 3])\n",
            "torch.int64\n",
            "tensor(1)\n",
            "tensor(2)\n",
            "tensor(3)\n"
          ]
        }
      ]
    },
    {
      "cell_type": "code",
      "source": [
        "v1 = torch.tensor([1,2,3,4,5,6])\n",
        "print(v1)\n",
        "print(v1.dtype)\n",
        "print(v1[1:4]) #for getting values using the range of index\n",
        "print(v1[1:]) #getting values start from particular index to end of the tensor\n",
        "print(v1[0:]) #getting all elements of the tensor"
      ],
      "metadata": {
        "colab": {
          "base_uri": "https://localhost:8080/"
        },
        "id": "j1xRGgElRfMh",
        "outputId": "cedccc39-dee9-4f0e-facc-bfba595ddeda"
      },
      "execution_count": null,
      "outputs": [
        {
          "output_type": "stream",
          "name": "stdout",
          "text": [
            "tensor([1, 2, 3, 4, 5, 6])\n",
            "torch.int64\n",
            "tensor([2, 3, 4])\n",
            "tensor([2, 3, 4, 5, 6])\n",
            "tensor([1, 2, 3, 4, 5, 6])\n"
          ]
        }
      ]
    },
    {
      "cell_type": "code",
      "source": [
        "v2 = torch.FloatTensor([1,2,3,4,5,6]) #creating float tensor\n",
        "print(v2)\n",
        "print(v2.dtype)\n",
        "print(v2.size()) #getting the size of the tensor\n"
      ],
      "metadata": {
        "colab": {
          "base_uri": "https://localhost:8080/"
        },
        "id": "pAgse0OeSonB",
        "outputId": "acc662c7-1004-4ccc-9714-5b75f3cb639b"
      },
      "execution_count": null,
      "outputs": [
        {
          "output_type": "stream",
          "name": "stdout",
          "text": [
            "tensor([1., 2., 3., 4., 5., 6.])\n",
            "torch.float32\n",
            "torch.Size([6])\n"
          ]
        }
      ]
    },
    {
      "cell_type": "code",
      "source": [
        "print(v1) #show the tensor in 1 row and 6 columns\n",
        "print(v1.view(6,1)) #Re-shape i.e., getting 6 elements of the tensor in columner order where will shown 6 rows in one column\n",
        "print(v1.view(3,2)) #reshape- 3 rows and 2 columns\n",
        "v1.view(3,-1) #although given an invalid row# still show 2 rows as it first got valid column#"
      ],
      "metadata": {
        "colab": {
          "base_uri": "https://localhost:8080/"
        },
        "id": "MPoKEkPDTQwa",
        "outputId": "1992bfd4-b6d7-4a8d-db62-fba7e08c593f"
      },
      "execution_count": null,
      "outputs": [
        {
          "output_type": "stream",
          "name": "stdout",
          "text": [
            "tensor([1, 2, 3, 4, 5, 6])\n",
            "tensor([[1],\n",
            "        [2],\n",
            "        [3],\n",
            "        [4],\n",
            "        [5],\n",
            "        [6]])\n",
            "tensor([[1, 2],\n",
            "        [3, 4],\n",
            "        [5, 6]])\n"
          ]
        },
        {
          "output_type": "execute_result",
          "data": {
            "text/plain": [
              "tensor([[1, 2],\n",
              "        [3, 4],\n",
              "        [5, 6]])"
            ]
          },
          "metadata": {},
          "execution_count": 27
        }
      ]
    },
    {
      "cell_type": "code",
      "source": [
        "a = np.array([1,2,3,4,5])\n",
        "tensor_cnv = torch.from_numpy(a) #convert numpy array to tensor\n",
        "print(tensor_cnv)\n",
        "print(tensor_cnv.type())"
      ],
      "metadata": {
        "colab": {
          "base_uri": "https://localhost:8080/"
        },
        "id": "Q-hlTFS7UAPe",
        "outputId": "57b59582-7b7f-48b2-b3f0-a9c603c9c002"
      },
      "execution_count": null,
      "outputs": [
        {
          "output_type": "stream",
          "name": "stdout",
          "text": [
            "tensor([1, 2, 3, 4, 5])\n",
            "torch.LongTensor\n"
          ]
        }
      ]
    },
    {
      "cell_type": "code",
      "source": [
        "numpy_cnv = tensor_cnv.numpy() #convert tensor to numpy array\n",
        "print(numpy_cnv)"
      ],
      "metadata": {
        "colab": {
          "base_uri": "https://localhost:8080/"
        },
        "id": "tVAkl0c9bOlP",
        "outputId": "8497e6a5-4d12-4905-b554-60bdb7c82af9"
      },
      "execution_count": null,
      "outputs": [
        {
          "output_type": "stream",
          "name": "stdout",
          "text": [
            "[1 2 3 4 5]\n"
          ]
        }
      ]
    },
    {
      "cell_type": "code",
      "source": [],
      "metadata": {
        "id": "DEvx03Tjb1kX"
      },
      "execution_count": null,
      "outputs": []
    }
  ]
}