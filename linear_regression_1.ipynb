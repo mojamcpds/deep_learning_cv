{
  "nbformat": 4,
  "nbformat_minor": 0,
  "metadata": {
    "colab": {
      "provenance": []
    },
    "kernelspec": {
      "name": "python3",
      "display_name": "Python 3"
    },
    "language_info": {
      "name": "python"
    }
  },
  "cells": [
    {
      "cell_type": "code",
      "execution_count": null,
      "metadata": {
        "colab": {
          "base_uri": "https://localhost:8080/"
        },
        "id": "_95Pn0je64pR",
        "outputId": "000085bf-5b94-4c30-dde9-0c0298e679f2"
      },
      "outputs": [
        {
          "output_type": "stream",
          "name": "stdout",
          "text": [
            "Looking in indexes: https://pypi.org/simple, https://us-python.pkg.dev/colab-wheels/public/simple/\n",
            "Requirement already satisfied: torch in /usr/local/lib/python3.9/dist-packages (1.13.1+cu116)\n",
            "Requirement already satisfied: typing-extensions in /usr/local/lib/python3.9/dist-packages (from torch) (4.5.0)\n"
          ]
        }
      ],
      "source": [
        "#installation of pytorch\n",
        "!pip3 install torch "
      ]
    },
    {
      "cell_type": "code",
      "source": [
        "#import torch for using this file\n",
        "import torch "
      ],
      "metadata": {
        "id": "j9lN_n-b7AYr"
      },
      "execution_count": null,
      "outputs": []
    },
    {
      "cell_type": "markdown",
      "source": [
        "# Goal- \n",
        "1- Create a dataset that generally will follow a linear pattern\n",
        "\n",
        "2- Then we'll declare a line in linear model with some of random set of parameters that have chances to fit incorrectly on our dataset\n",
        "\n",
        "3-Then we'll use a simple optimization procedure known as gradient decent - that will minimize the error function on our linear model and it keep doing that until train the model to fit on our data really well\n",
        "\n"
      ],
      "metadata": {
        "id": "Cqytfztp8i0p"
      }
    },
    {
      "cell_type": "markdown",
      "source": [
        "# Step-1\n",
        "The first step of achieving the goal we defined above is- \n",
        "1. Declare a linear model\n",
        "2. Use it to make predictions"
      ],
      "metadata": {
        "id": "krv_CaKk-Tfj"
      }
    },
    {
      "cell_type": "code",
      "source": [
        "w = torch.tensor(3.0, requires_grad=True)\n",
        "b = torch.tensor(1.0, requires_grad=True)\n",
        "#requires_grad means requires of gradient decent"
      ],
      "metadata": {
        "id": "j_ZnB-S7-lJJ"
      },
      "execution_count": null,
      "outputs": []
    },
    {
      "cell_type": "code",
      "source": [
        "def forward(x):\n",
        " #equation of the linear regression \n",
        " y = w*x + b\n",
        " #Here w = slop / weight, b = bias / y intercept of our line, x = input\n",
        " return y"
      ],
      "metadata": {
        "id": "MVPMVArQAA81"
      },
      "execution_count": null,
      "outputs": []
    },
    {
      "cell_type": "code",
      "source": [
        "x = torch.tensor(2)\n",
        "forward(x)"
      ],
      "metadata": {
        "colab": {
          "base_uri": "https://localhost:8080/"
        },
        "id": "iUKTs3YYASFu",
        "outputId": "fe8abd24-a27a-4bc3-8d69-cb23ca505aa7"
      },
      "execution_count": null,
      "outputs": [
        {
          "output_type": "execute_result",
          "data": {
            "text/plain": [
              "tensor(7., grad_fn=<AddBackward0>)"
            ]
          },
          "metadata": {},
          "execution_count": 13
        }
      ]
    },
    {
      "cell_type": "code",
      "source": [
        "x = torch.tensor([[4],[7]])\n",
        "forward(x)"
      ],
      "metadata": {
        "colab": {
          "base_uri": "https://localhost:8080/"
        },
        "id": "s5lFDfa0AXqB",
        "outputId": "8ce9c234-e197-47fe-b9df-001727ccf88b"
      },
      "execution_count": null,
      "outputs": [
        {
          "output_type": "execute_result",
          "data": {
            "text/plain": [
              "tensor([[13.],\n",
              "        [22.]], grad_fn=<AddBackward0>)"
            ]
          },
          "metadata": {},
          "execution_count": 14
        }
      ]
    },
    {
      "cell_type": "code",
      "source": [],
      "metadata": {
        "id": "CCB1GmYjAiH_"
      },
      "execution_count": null,
      "outputs": []
    }
  ]
}